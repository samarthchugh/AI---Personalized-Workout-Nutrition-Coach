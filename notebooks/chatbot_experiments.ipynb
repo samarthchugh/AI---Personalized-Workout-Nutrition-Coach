{
 "cells": [
  {
   "cell_type": "code",
   "execution_count": null,
   "metadata": {},
   "outputs": [],
   "source": [
    "import os\n",
    "import pandas as pd\n",
    "import numpy as np\n",
    "from sentence_transformers import SentenceTransformer\n",
    "from sklearn.metrics.pairwise import cosine_similarity\n",
    "from sklearn.neighbors import NearestNeighbors\n",
    "import joblib\n",
    "import torch\n",
    "from transformers import AutoModelForCausalLM, AutoTokenizer, AutoModelForSeq2SeqLM"
   ]
  },
  {
   "cell_type": "code",
   "execution_count": null,
   "metadata": {},
   "outputs": [
    {
     "name": "stdout",
     "output_type": "stream",
     "text": [
      "Using cuda device\n"
     ]
    }
   ],
   "source": [
    "device = \"cuda\" if torch.cuda.is_available() else \"cpu\"\n",
    "print(f\"Using {device} device\")"
   ]
  },
  {
   "cell_type": "code",
   "execution_count": null,
   "metadata": {},
   "outputs": [
    {
     "data": {
      "application/vnd.google.colaboratory.intrinsic+json": {
       "summary": "{\n  \"name\": \"faq\",\n  \"rows\": 20,\n  \"fields\": [\n    {\n      \"column\": \"id\",\n      \"properties\": {\n        \"dtype\": \"number\",\n        \"std\": 5,\n        \"min\": 1,\n        \"max\": 20,\n        \"num_unique_values\": 20,\n        \"samples\": [\n          1,\n          18,\n          16\n        ],\n        \"semantic_type\": \"\",\n        \"description\": \"\"\n      }\n    },\n    {\n      \"column\": \"question\",\n      \"properties\": {\n        \"dtype\": \"string\",\n        \"num_unique_values\": 20,\n        \"samples\": [\n          \"What is the best time to workout?\",\n          \"How do I reduce belly fat?\",\n          \"Should I do cardio before or after weights?\"\n        ],\n        \"semantic_type\": \"\",\n        \"description\": \"\"\n      }\n    },\n    {\n      \"column\": \"answer\",\n      \"properties\": {\n        \"dtype\": \"string\",\n        \"num_unique_values\": 20,\n        \"samples\": [\n          \"Morning workouts can boost energy and metabolism throughout the day.\",\n          \"Spot reduction isn\\u2019t possible; focus on overall fat loss.\",\n          \"Weights before cardio for strength focus; cardio first for stamina.\"\n        ],\n        \"semantic_type\": \"\",\n        \"description\": \"\"\n      }\n    }\n  ]\n}",
       "type": "dataframe",
       "variable_name": "faq"
      },
      "text/html": [
       "\n",
       "  <div id=\"df-2ef94365-4bd5-4cd7-bc56-a51d6d5bf51b\" class=\"colab-df-container\">\n",
       "    <div>\n",
       "<style scoped>\n",
       "    .dataframe tbody tr th:only-of-type {\n",
       "        vertical-align: middle;\n",
       "    }\n",
       "\n",
       "    .dataframe tbody tr th {\n",
       "        vertical-align: top;\n",
       "    }\n",
       "\n",
       "    .dataframe thead th {\n",
       "        text-align: right;\n",
       "    }\n",
       "</style>\n",
       "<table border=\"1\" class=\"dataframe\">\n",
       "  <thead>\n",
       "    <tr style=\"text-align: right;\">\n",
       "      <th></th>\n",
       "      <th>id</th>\n",
       "      <th>question</th>\n",
       "      <th>answer</th>\n",
       "    </tr>\n",
       "  </thead>\n",
       "  <tbody>\n",
       "    <tr>\n",
       "      <th>0</th>\n",
       "      <td>1</td>\n",
       "      <td>What is the best time to workout?</td>\n",
       "      <td>Morning workouts can boost energy and metaboli...</td>\n",
       "    </tr>\n",
       "    <tr>\n",
       "      <th>1</th>\n",
       "      <td>2</td>\n",
       "      <td>How much protein do I need daily?</td>\n",
       "      <td>0.8–1g protein per kg body weight is recommended.</td>\n",
       "    </tr>\n",
       "    <tr>\n",
       "      <th>2</th>\n",
       "      <td>3</td>\n",
       "      <td>Can I lose weight without cardio?</td>\n",
       "      <td>Yes, strength training and calorie deficit can...</td>\n",
       "    </tr>\n",
       "    <tr>\n",
       "      <th>3</th>\n",
       "      <td>4</td>\n",
       "      <td>What foods help muscle growth?</td>\n",
       "      <td>Lean meats, fish, legumes, and protein-rich fo...</td>\n",
       "    </tr>\n",
       "    <tr>\n",
       "      <th>4</th>\n",
       "      <td>5</td>\n",
       "      <td>How often should I work out weekly?</td>\n",
       "      <td>3–5 times per week is effective for most people.</td>\n",
       "    </tr>\n",
       "  </tbody>\n",
       "</table>\n",
       "</div>\n",
       "    <div class=\"colab-df-buttons\">\n",
       "\n",
       "  <div class=\"colab-df-container\">\n",
       "    <button class=\"colab-df-convert\" onclick=\"convertToInteractive('df-2ef94365-4bd5-4cd7-bc56-a51d6d5bf51b')\"\n",
       "            title=\"Convert this dataframe to an interactive table.\"\n",
       "            style=\"display:none;\">\n",
       "\n",
       "  <svg xmlns=\"http://www.w3.org/2000/svg\" height=\"24px\" viewBox=\"0 -960 960 960\">\n",
       "    <path d=\"M120-120v-720h720v720H120Zm60-500h600v-160H180v160Zm220 220h160v-160H400v160Zm0 220h160v-160H400v160ZM180-400h160v-160H180v160Zm440 0h160v-160H620v160ZM180-180h160v-160H180v160Zm440 0h160v-160H620v160Z\"/>\n",
       "  </svg>\n",
       "    </button>\n",
       "\n",
       "  <style>\n",
       "    .colab-df-container {\n",
       "      display:flex;\n",
       "      gap: 12px;\n",
       "    }\n",
       "\n",
       "    .colab-df-convert {\n",
       "      background-color: #E8F0FE;\n",
       "      border: none;\n",
       "      border-radius: 50%;\n",
       "      cursor: pointer;\n",
       "      display: none;\n",
       "      fill: #1967D2;\n",
       "      height: 32px;\n",
       "      padding: 0 0 0 0;\n",
       "      width: 32px;\n",
       "    }\n",
       "\n",
       "    .colab-df-convert:hover {\n",
       "      background-color: #E2EBFA;\n",
       "      box-shadow: 0px 1px 2px rgba(60, 64, 67, 0.3), 0px 1px 3px 1px rgba(60, 64, 67, 0.15);\n",
       "      fill: #174EA6;\n",
       "    }\n",
       "\n",
       "    .colab-df-buttons div {\n",
       "      margin-bottom: 4px;\n",
       "    }\n",
       "\n",
       "    [theme=dark] .colab-df-convert {\n",
       "      background-color: #3B4455;\n",
       "      fill: #D2E3FC;\n",
       "    }\n",
       "\n",
       "    [theme=dark] .colab-df-convert:hover {\n",
       "      background-color: #434B5C;\n",
       "      box-shadow: 0px 1px 3px 1px rgba(0, 0, 0, 0.15);\n",
       "      filter: drop-shadow(0px 1px 2px rgba(0, 0, 0, 0.3));\n",
       "      fill: #FFFFFF;\n",
       "    }\n",
       "  </style>\n",
       "\n",
       "    <script>\n",
       "      const buttonEl =\n",
       "        document.querySelector('#df-2ef94365-4bd5-4cd7-bc56-a51d6d5bf51b button.colab-df-convert');\n",
       "      buttonEl.style.display =\n",
       "        google.colab.kernel.accessAllowed ? 'block' : 'none';\n",
       "\n",
       "      async function convertToInteractive(key) {\n",
       "        const element = document.querySelector('#df-2ef94365-4bd5-4cd7-bc56-a51d6d5bf51b');\n",
       "        const dataTable =\n",
       "          await google.colab.kernel.invokeFunction('convertToInteractive',\n",
       "                                                    [key], {});\n",
       "        if (!dataTable) return;\n",
       "\n",
       "        const docLinkHtml = 'Like what you see? Visit the ' +\n",
       "          '<a target=\"_blank\" href=https://colab.research.google.com/notebooks/data_table.ipynb>data table notebook</a>'\n",
       "          + ' to learn more about interactive tables.';\n",
       "        element.innerHTML = '';\n",
       "        dataTable['output_type'] = 'display_data';\n",
       "        await google.colab.output.renderOutput(dataTable, element);\n",
       "        const docLink = document.createElement('div');\n",
       "        docLink.innerHTML = docLinkHtml;\n",
       "        element.appendChild(docLink);\n",
       "      }\n",
       "    </script>\n",
       "  </div>\n",
       "\n",
       "\n",
       "    <div id=\"df-cf9c8c33-b468-424f-b454-c5698eaa08db\">\n",
       "      <button class=\"colab-df-quickchart\" onclick=\"quickchart('df-cf9c8c33-b468-424f-b454-c5698eaa08db')\"\n",
       "                title=\"Suggest charts\"\n",
       "                style=\"display:none;\">\n",
       "\n",
       "<svg xmlns=\"http://www.w3.org/2000/svg\" height=\"24px\"viewBox=\"0 0 24 24\"\n",
       "     width=\"24px\">\n",
       "    <g>\n",
       "        <path d=\"M19 3H5c-1.1 0-2 .9-2 2v14c0 1.1.9 2 2 2h14c1.1 0 2-.9 2-2V5c0-1.1-.9-2-2-2zM9 17H7v-7h2v7zm4 0h-2V7h2v10zm4 0h-2v-4h2v4z\"/>\n",
       "    </g>\n",
       "</svg>\n",
       "      </button>\n",
       "\n",
       "<style>\n",
       "  .colab-df-quickchart {\n",
       "      --bg-color: #E8F0FE;\n",
       "      --fill-color: #1967D2;\n",
       "      --hover-bg-color: #E2EBFA;\n",
       "      --hover-fill-color: #174EA6;\n",
       "      --disabled-fill-color: #AAA;\n",
       "      --disabled-bg-color: #DDD;\n",
       "  }\n",
       "\n",
       "  [theme=dark] .colab-df-quickchart {\n",
       "      --bg-color: #3B4455;\n",
       "      --fill-color: #D2E3FC;\n",
       "      --hover-bg-color: #434B5C;\n",
       "      --hover-fill-color: #FFFFFF;\n",
       "      --disabled-bg-color: #3B4455;\n",
       "      --disabled-fill-color: #666;\n",
       "  }\n",
       "\n",
       "  .colab-df-quickchart {\n",
       "    background-color: var(--bg-color);\n",
       "    border: none;\n",
       "    border-radius: 50%;\n",
       "    cursor: pointer;\n",
       "    display: none;\n",
       "    fill: var(--fill-color);\n",
       "    height: 32px;\n",
       "    padding: 0;\n",
       "    width: 32px;\n",
       "  }\n",
       "\n",
       "  .colab-df-quickchart:hover {\n",
       "    background-color: var(--hover-bg-color);\n",
       "    box-shadow: 0 1px 2px rgba(60, 64, 67, 0.3), 0 1px 3px 1px rgba(60, 64, 67, 0.15);\n",
       "    fill: var(--button-hover-fill-color);\n",
       "  }\n",
       "\n",
       "  .colab-df-quickchart-complete:disabled,\n",
       "  .colab-df-quickchart-complete:disabled:hover {\n",
       "    background-color: var(--disabled-bg-color);\n",
       "    fill: var(--disabled-fill-color);\n",
       "    box-shadow: none;\n",
       "  }\n",
       "\n",
       "  .colab-df-spinner {\n",
       "    border: 2px solid var(--fill-color);\n",
       "    border-color: transparent;\n",
       "    border-bottom-color: var(--fill-color);\n",
       "    animation:\n",
       "      spin 1s steps(1) infinite;\n",
       "  }\n",
       "\n",
       "  @keyframes spin {\n",
       "    0% {\n",
       "      border-color: transparent;\n",
       "      border-bottom-color: var(--fill-color);\n",
       "      border-left-color: var(--fill-color);\n",
       "    }\n",
       "    20% {\n",
       "      border-color: transparent;\n",
       "      border-left-color: var(--fill-color);\n",
       "      border-top-color: var(--fill-color);\n",
       "    }\n",
       "    30% {\n",
       "      border-color: transparent;\n",
       "      border-left-color: var(--fill-color);\n",
       "      border-top-color: var(--fill-color);\n",
       "      border-right-color: var(--fill-color);\n",
       "    }\n",
       "    40% {\n",
       "      border-color: transparent;\n",
       "      border-right-color: var(--fill-color);\n",
       "      border-top-color: var(--fill-color);\n",
       "    }\n",
       "    60% {\n",
       "      border-color: transparent;\n",
       "      border-right-color: var(--fill-color);\n",
       "    }\n",
       "    80% {\n",
       "      border-color: transparent;\n",
       "      border-right-color: var(--fill-color);\n",
       "      border-bottom-color: var(--fill-color);\n",
       "    }\n",
       "    90% {\n",
       "      border-color: transparent;\n",
       "      border-bottom-color: var(--fill-color);\n",
       "    }\n",
       "  }\n",
       "</style>\n",
       "\n",
       "      <script>\n",
       "        async function quickchart(key) {\n",
       "          const quickchartButtonEl =\n",
       "            document.querySelector('#' + key + ' button');\n",
       "          quickchartButtonEl.disabled = true;  // To prevent multiple clicks.\n",
       "          quickchartButtonEl.classList.add('colab-df-spinner');\n",
       "          try {\n",
       "            const charts = await google.colab.kernel.invokeFunction(\n",
       "                'suggestCharts', [key], {});\n",
       "          } catch (error) {\n",
       "            console.error('Error during call to suggestCharts:', error);\n",
       "          }\n",
       "          quickchartButtonEl.classList.remove('colab-df-spinner');\n",
       "          quickchartButtonEl.classList.add('colab-df-quickchart-complete');\n",
       "        }\n",
       "        (() => {\n",
       "          let quickchartButtonEl =\n",
       "            document.querySelector('#df-cf9c8c33-b468-424f-b454-c5698eaa08db button');\n",
       "          quickchartButtonEl.style.display =\n",
       "            google.colab.kernel.accessAllowed ? 'block' : 'none';\n",
       "        })();\n",
       "      </script>\n",
       "    </div>\n",
       "\n",
       "    </div>\n",
       "  </div>\n"
      ],
      "text/plain": [
       "   id                             question  \\\n",
       "0   1    What is the best time to workout?   \n",
       "1   2    How much protein do I need daily?   \n",
       "2   3    Can I lose weight without cardio?   \n",
       "3   4       What foods help muscle growth?   \n",
       "4   5  How often should I work out weekly?   \n",
       "\n",
       "                                              answer  \n",
       "0  Morning workouts can boost energy and metaboli...  \n",
       "1  0.8–1g protein per kg body weight is recommended.  \n",
       "2  Yes, strength training and calorie deficit can...  \n",
       "3  Lean meats, fish, legumes, and protein-rich fo...  \n",
       "4   3–5 times per week is effective for most people.  "
      ]
     },
     "execution_count": 3,
     "metadata": {},
     "output_type": "execute_result"
    }
   ],
   "source": [
    "faq=pd.read_csv('faq.csv')\n",
    "faq.head()"
   ]
  },
  {
   "cell_type": "code",
   "execution_count": null,
   "metadata": {},
   "outputs": [
    {
     "data": {
      "application/vnd.jupyter.widget-view+json": {
       "model_id": "5e93471f1c07404a80fba5d3920ffc29",
       "version_major": 2,
       "version_minor": 0
      },
      "text/plain": [
       "Batches:   0%|          | 0/1 [00:00<?, ?it/s]"
      ]
     },
     "metadata": {},
     "output_type": "display_data"
    }
   ],
   "source": [
    "EMBEDDED_MODEL = \"all-MiniLM-L6-v2\"\n",
    "embedder = SentenceTransformer(EMBEDDED_MODEL,device=device)\n",
    "\n",
    "# prepare corpus\n",
    "corpus = faq['question'].astype(str).tolist()\n",
    "embeddings = embedder.encode(corpus, convert_to_numpy=True, show_progress_bar=True)\n",
    "\n",
    "# save for future use\n",
    "os.makedirs(\"models/chatbot\",exist_ok=True)\n",
    "np.save(\"models/chatbot/faq_embeddings.npy\",embeddings)\n",
    "with open(os.path.join(\"models/chatbot\",'embedder.txt'),'w') as f:\n",
    "  f.write(EMBEDDED_MODEL)\n",
    "# joblib.dump(embedder,\"models/chatbot/embedder.joblib\")"
   ]
  },
  {
   "cell_type": "code",
   "execution_count": null,
   "metadata": {},
   "outputs": [],
   "source": [
    "nn = NearestNeighbors(n_neighbors=1,metric='cosine').fit(embeddings)\n",
    "def retrieve_nn(query, k=3):\n",
    "  q_emb=embedder.encode([query], convert_to_numpy=True)\n",
    "  dists, idxs=nn.kneighbors(q_emb,n_neighbors=k)\n",
    "  # cosine distance -> simialrity = 1 - dist\n",
    "  return [(idxs[0][i], 1-dists[0][i], faq.iloc[idxs[0][i]]['question'], faq.iloc[idxs[0][i]]['answer']) for i in range(len(idxs[0]))]"
   ]
  },
  {
   "cell_type": "code",
   "execution_count": null,
   "metadata": {},
   "outputs": [
    {
     "data": {
      "application/vnd.jupyter.widget-view+json": {
       "model_id": "353a0b7934fb4d56867208baa448d4f1",
       "version_major": 2,
       "version_minor": 0
      },
      "text/plain": [
       "tokenizer_config.json:   0%|          | 0.00/614 [00:00<?, ?B/s]"
      ]
     },
     "metadata": {},
     "output_type": "display_data"
    },
    {
     "data": {
      "application/vnd.jupyter.widget-view+json": {
       "model_id": "f2efa4f2eec04bb3be7a51b2b29aa3e0",
       "version_major": 2,
       "version_minor": 0
      },
      "text/plain": [
       "vocab.json: 0.00B [00:00, ?B/s]"
      ]
     },
     "metadata": {},
     "output_type": "display_data"
    },
    {
     "data": {
      "application/vnd.jupyter.widget-view+json": {
       "model_id": "53406d902ee64ba7b5ef22f5d1b18e53",
       "version_major": 2,
       "version_minor": 0
      },
      "text/plain": [
       "merges.txt: 0.00B [00:00, ?B/s]"
      ]
     },
     "metadata": {},
     "output_type": "display_data"
    },
    {
     "data": {
      "application/vnd.jupyter.widget-view+json": {
       "model_id": "9d3e249c14e74af0a7efe4e6e53ac54e",
       "version_major": 2,
       "version_minor": 0
      },
      "text/plain": [
       "config.json:   0%|          | 0.00/642 [00:00<?, ?B/s]"
      ]
     },
     "metadata": {},
     "output_type": "display_data"
    },
    {
     "data": {
      "application/vnd.jupyter.widget-view+json": {
       "model_id": "329513afd58d42e7bed395bfd72b40ae",
       "version_major": 2,
       "version_minor": 0
      },
      "text/plain": [
       "pytorch_model.bin:   0%|          | 0.00/863M [00:00<?, ?B/s]"
      ]
     },
     "metadata": {},
     "output_type": "display_data"
    },
    {
     "data": {
      "application/vnd.jupyter.widget-view+json": {
       "model_id": "bdfee26072834eba978e8b0dbd3f7024",
       "version_major": 2,
       "version_minor": 0
      },
      "text/plain": [
       "model.safetensors:   0%|          | 0.00/863M [00:00<?, ?B/s]"
      ]
     },
     "metadata": {},
     "output_type": "display_data"
    },
    {
     "data": {
      "application/vnd.jupyter.widget-view+json": {
       "model_id": "436d972319e142b38909ad9b59c3473b",
       "version_major": 2,
       "version_minor": 0
      },
      "text/plain": [
       "generation_config.json:   0%|          | 0.00/124 [00:00<?, ?B/s]"
      ]
     },
     "metadata": {},
     "output_type": "display_data"
    },
    {
     "name": "stderr",
     "output_type": "stream",
     "text": [
      "The attention mask is not set and cannot be inferred from input because pad token is same as eos token. As a consequence, you may observe unexpected behavior. Please pass your input's `attention_mask` to obtain reliable results.\n"
     ]
    },
    {
     "name": "stdout",
     "output_type": "stream",
     "text": [
      "Eat less.\n"
     ]
    }
   ],
   "source": [
    "GEN_MODEL_NAME = \"microsoft/DialoGPT-medium\"  # or \"gpt2-medium\"\n",
    "tokenizer = AutoTokenizer.from_pretrained(GEN_MODEL_NAME)\n",
    "gen_model = AutoModelForCausalLM.from_pretrained(GEN_MODEL_NAME).to(device)\n",
    "\n",
    "# simple generate function\n",
    "def generate_response_generative(prompt, max_new_tokens=200, temperature=0.7, top_p=0.9, top_k=50):\n",
    "    input_ids = tokenizer.encode(prompt + tokenizer.eos_token, return_tensors=\"pt\").to(device)\n",
    "    out = gen_model.generate(\n",
    "        input_ids,\n",
    "        max_length=input_ids.shape[1] + max_new_tokens,\n",
    "        do_sample=True,\n",
    "        top_k=top_k,\n",
    "        top_p=top_p,\n",
    "        temperature=temperature,\n",
    "        pad_token_id=tokenizer.eos_token_id,\n",
    "        eos_token_id=tokenizer.eos_token_id,\n",
    "        no_repeat_ngram_size=3,\n",
    "    )\n",
    "    # decode only the generated part\n",
    "    gen_text = tokenizer.decode(out[0, input_ids.shape[1]:], skip_special_tokens=True)\n",
    "    return gen_text\n",
    "\n",
    "# test\n",
    "print(generate_response_generative(\"Hello! How do I lose weight?\"))"
   ]
  },
  {
   "cell_type": "code",
   "execution_count": null,
   "metadata": {},
   "outputs": [],
   "source": [
    "# ensure model is GODEL:\n",
    "GEN_MODEL_NAME = \"microsoft/GODEL-v1_1-base-seq2seq\"\n",
    "tokenizer = AutoTokenizer.from_pretrained(GEN_MODEL_NAME)\n",
    "gen_model = AutoModelForSeq2SeqLM.from_pretrained(GEN_MODEL_NAME).to(device)\n",
    "\n",
    "def generate_response_godel(query, history=None, context=None,\n",
    "                           max_new_tokens=600,\n",
    "                           do_sample=False, top_p=0.95, temperature=0.9,\n",
    "                           num_beams=4):\n",
    "    \"\"\"\n",
    "    Generate with GODEL using readable markers (no raw <|...|> tokens).\n",
    "    Returns cleaned string (trims any accidental repetition of the prompt).\n",
    "    \"\"\"\n",
    "    history = history or []\n",
    "    context = context or \"You are an expert personal fitness and nutrition assistant.\"\n",
    "\n",
    "    # Build short dialogue history string (last 3 turns)\n",
    "    dialogue = \"\"\n",
    "    for turn in history[-3:]:\n",
    "        # each turn is dict {'user':..., 'bot':...}\n",
    "        dialogue += f\"User: {turn['user']}\\nAssistant: {turn['bot']}\\n\"\n",
    "\n",
    "    # Detect plan-like queries to vary system instruction\n",
    "    plan_keywords = [\"plan\", \"schedule\", \"calendar\", \"routine\", \"program\", \"diet\", \"workout\"]\n",
    "    is_plan = any(k in query.lower() for k in plan_keywords)\n",
    "\n",
    "    if is_plan:\n",
    "        system_instr = (\n",
    "            \"Instruction: You are a professional fitness & nutrition coach. \"\n",
    "            \"If asked to create a plan or schedule, produce a detailed, day-by-day \"\n",
    "            \"plan (include exercises, reps/sets, duration, and optional notes). \"\n",
    "            \"If not asked for a plan, answer concisely and accurately.\"\n",
    "        )\n",
    "    else:\n",
    "        system_instr = (\n",
    "            \"Instruction: You are a knowledgeable fitness & nutrition assistant. \"\n",
    "            \"Answer the user's question clearly and accurately.\"\n",
    "        )\n",
    "\n",
    "    # Compose the final human-readable prompt (no special token markers)\n",
    "    prompt = (\n",
    "        f\"{system_instr}\\n\\n\"\n",
    "        f\"Context: {context}\\n\\n\"\n",
    "        f\"{dialogue}\"\n",
    "        f\"User: {query}\\n\"\n",
    "        f\"Assistant:\"\n",
    "    )\n",
    "\n",
    "    # Tokenize and generate\n",
    "    input_ids = tokenizer(prompt, return_tensors=\"pt\").input_ids.to(device)\n",
    "    outputs = gen_model.generate(\n",
    "        input_ids,\n",
    "        max_new_tokens=max_new_tokens,\n",
    "        do_sample=do_sample,\n",
    "        top_p=top_p,\n",
    "        temperature=temperature,\n",
    "        num_beams=num_beams,\n",
    "        repetition_penalty=1.2,\n",
    "        no_repeat_ngram_size=3,\n",
    "        pad_token_id=tokenizer.eos_token_id,\n",
    "        eos_token_id=tokenizer.eos_token_id,\n",
    "        length_penalty=1.0,\n",
    "    )\n",
    "\n",
    "    raw = tokenizer.decode(outputs[0], skip_special_tokens=True)\n",
    "\n",
    "    # Postprocess: if model accidentally repeats the prompt text at start, strip it\n",
    "    # e.g. if raw starts with prompt or system instr, remove leading overlap\n",
    "    # Keep robust: remove exact prompt occurrence if present\n",
    "    if raw.startswith(prompt):\n",
    "        cleaned = raw[len(prompt):].strip()\n",
    "    else:\n",
    "        # also remove accidental leading \"User:\" or \"Assistant:\" echoes\n",
    "        cleaned = raw.strip()\n",
    "        for prefix in (\"User:\", \"Assistant:\", \"Context:\"):\n",
    "            if cleaned.startswith(prefix):\n",
    "                # remove a single leading prefix if it equals the prompt area\n",
    "                cleaned = cleaned[len(prefix):].lstrip()\n",
    "\n",
    "    return cleaned\n"
   ]
  },
  {
   "cell_type": "code",
   "execution_count": null,
   "metadata": {},
   "outputs": [
    {
     "name": "stderr",
     "output_type": "stream",
     "text": [
      "`torch_dtype` is deprecated! Use `dtype` instead!\n"
     ]
    },
    {
     "data": {
      "application/vnd.jupyter.widget-view+json": {
       "model_id": "ed1ba339591742bd884a602a0e4abbac",
       "version_major": 2,
       "version_minor": 0
      },
      "text/plain": [
       "Fetching 2 files:   0%|          | 0/2 [00:00<?, ?it/s]"
      ]
     },
     "metadata": {},
     "output_type": "display_data"
    },
    {
     "data": {
      "application/vnd.jupyter.widget-view+json": {
       "model_id": "20924000eb854d008be0ed4d6fca2946",
       "version_major": 2,
       "version_minor": 0
      },
      "text/plain": [
       "model-00002-of-00002.safetensors:   0%|          | 0.00/67.1M [00:00<?, ?B/s]"
      ]
     },
     "metadata": {},
     "output_type": "display_data"
    },
    {
     "data": {
      "application/vnd.jupyter.widget-view+json": {
       "model_id": "d73dbc3408ce424b81ba2f1b25f1dc65",
       "version_major": 2,
       "version_minor": 0
      },
      "text/plain": [
       "model-00001-of-00002.safetensors:   0%|          | 0.00/4.95G [00:00<?, ?B/s]"
      ]
     },
     "metadata": {},
     "output_type": "display_data"
    },
    {
     "data": {
      "application/vnd.jupyter.widget-view+json": {
       "model_id": "15d10ad7dbfa472fa1826decb172ac78",
       "version_major": 2,
       "version_minor": 0
      },
      "text/plain": [
       "Loading checkpoint shards:   0%|          | 0/2 [00:00<?, ?it/s]"
      ]
     },
     "metadata": {},
     "output_type": "display_data"
    },
    {
     "data": {
      "application/vnd.jupyter.widget-view+json": {
       "model_id": "a93596a7dfda423bb36d43782f7248e8",
       "version_major": 2,
       "version_minor": 0
      },
      "text/plain": [
       "generation_config.json:   0%|          | 0.00/137 [00:00<?, ?B/s]"
      ]
     },
     "metadata": {},
     "output_type": "display_data"
    }
   ],
   "source": [
    "from transformers import AutoTokenizer, AutoModelForCausalLM\n",
    "import torch\n",
    "\n",
    "model_id = \"google/gemma-2b-it\"\n",
    "device = \"cuda\" if torch.cuda.is_available() else \"cpu\"\n",
    "tokenizer = AutoTokenizer.from_pretrained(model_id)\n",
    "model = AutoModelForCausalLM.from_pretrained(model_id, torch_dtype=torch.float16 if device==\"cuda\" else torch.float32).to(device)\n",
    "\n",
    "def generate_response_gemma(prompt, max_new_tokens=600):\n",
    "    input_ids = tokenizer(prompt, return_tensors=\"pt\").to(device)\n",
    "    out = model.generate(\n",
    "        **input_ids,\n",
    "        do_sample=True,\n",
    "        temperature=0.7,\n",
    "        top_p=0.9,\n",
    "        max_new_tokens=max_new_tokens,\n",
    "        repetition_penalty=1.2\n",
    "    )\n",
    "    return tokenizer.decode(out[0], skip_special_tokens=True)\n"
   ]
  },
  {
   "cell_type": "code",
   "execution_count": null,
   "metadata": {},
   "outputs": [
    {
     "name": "stderr",
     "output_type": "stream",
     "text": [
      "The following generation flags are not valid and may be ignored: ['temperature', 'top_p']. Set `TRANSFORMERS_VERBOSITY=info` for more details.\n"
     ]
    },
    {
     "name": "stdout",
     "output_type": "stream",
     "text": [
      "Mode: rag\n",
      "\n",
      "Generated Answer:\n",
      " If not asked for a plan, answer concisely and accurately. Context: A: 3–5 times per week is effective for most people. Q: How to track calorie intake effectively? A: Apps or journals help track calories accurately. A: Morning workouts can boost energy and metabolism throughout the day.\n"
     ]
    }
   ],
   "source": [
    "query = \"Create a 7-day workout calendar for weight loss for a person with BMI of 25.\"\n",
    "response = hybrid_retrieval_first(query)\n",
    "print(\"Mode:\", response['mode'])\n",
    "print(\"\\nGenerated Answer:\\n\", response['answer'])"
   ]
  },
  {
   "cell_type": "code",
   "execution_count": null,
   "metadata": {},
   "outputs": [],
   "source": [
    "RETRIEVAL_THRESHOLD = 0.65\n",
    "\n",
    "def rag_generate(query, k=3):\n",
    "    \"\"\"Use retrieved FAQ context + generative reasoning.\"\"\"\n",
    "    results = retrieve_nn(query, k=k)\n",
    "    context = \"\\n\\n\".join([f\"Q: {r[2]}\\nA: {r[3]}\" for r in results])\n",
    "\n",
    "    prompt = f\"\"\"\n",
    "You are a professional AI fitness and nutrition assistant.\n",
    "Below are some FAQs that might help answer the user’s question.\n",
    "\n",
    "Context:\n",
    "{context}\n",
    "\n",
    "User Question:\n",
    "{query}\n",
    "\n",
    "Please give a detailed, structured, and motivational answer.\n",
    "If the user asks for a plan or schedule, format it day-by-day clearly.\n",
    "\"\"\"\n",
    "    return generate_response_gemma(prompt)\n",
    "\n",
    "\n",
    "def hybrid_retrieval_first(query, k=3, threshold=RETRIEVAL_THRESHOLD):\n",
    "    \"\"\"Decide between retrieval-only or RAG generation.\"\"\"\n",
    "    results = retrieve_nn(query, k=k)\n",
    "    top_idx, top_sim, q_text, ans_text = results[0]\n",
    "\n",
    "    if top_sim >= threshold:\n",
    "        return {\"mode\": \"retrieval\", \"answer\": ans_text, \"score\": float(top_sim)}\n",
    "    else:\n",
    "        # fallback to RAG + generation\n",
    "        gen = rag_generate(query, k=k)\n",
    "        return {\"mode\": \"rag\", \"answer\": gen, \"score\": float(top_sim)}\n"
   ]
  },
  {
   "cell_type": "code",
   "execution_count": null,
   "metadata": {},
   "outputs": [
    {
     "name": "stdout",
     "output_type": "stream",
     "text": [
      "Mode: rag\n",
      "\n",
      "Generated Answer:\n",
      " \n",
      "You are a professional AI fitness and nutrition assistant.\n",
      "Below are some FAQs that might help answer the user’s question.\n",
      "\n",
      "Context:\n",
      "Q: How often should I work out weekly?\n",
      "A: 3–5 times per week is effective for most people.\n",
      "\n",
      "Q: How to track calorie intake effectively?\n",
      "A: Apps or journals help track calories accurately.\n",
      "\n",
      "Q: What is the best time to workout?\n",
      "A: Morning workouts can boost energy and metabolism throughout the day.\n",
      "\n",
      "User Question:\n",
      "Create a 7-day workout calendar for weight loss for a person with BMI of 25.\n",
      "\n",
      "Please give a detailed, structured, and motivational answer.\n",
      "If the user asks for a plan or schedule, format it day-by-day clearly.\n",
      "Include specific exercises, sets, reps, rest periods, and any additional details relevant to weight loss.\n",
      "\n",
      "**Weekly Weight Loss Workout Calendar for BMI 25**\n",
      "\n",
      "**Day 1:**\n",
      "* Warm up with 5 minutes of light cardio and dynamic stretching.\n",
      "* Bodyweight squats (3 sets x 8-10 reps)\n",
      "* Dumbbell bicep curls (3 sets x 8-10 reps)\n",
      "* Triceps dips (3 sets x 8-10 reps)\n",
      "\n",
      "**Day 2:**\n",
      "* Warm up with 5 minutes of light cardio and dynamic stretching.\n",
      "* Lunges (3 sets x 8-10 reps)\n",
      "* Overhead press (3 sets x 8-10 reps)\n",
      "* Shoulder press (3 sets x 8-10 reps)\n",
      "\n",
      "**Day 3:**\n",
      "* Warm up with 5 minutes of light cardio and dynamic stretching.\n",
      "* Plank (3 sets x 30 seconds each side)\n",
      "* Side plank (3 sets x 30 seconds each side)\n",
      "* Mountain climbers (3 sets x 30 seconds each side)\n",
      "\n",
      "**Day 4:**\n",
      "* Warm up with 5 minutes of light cardio and dynamic stretching.\n",
      "* Deadlifts (3 sets x 8-10 reps)\n",
      "* Hamstring curls (3 sets x 8-10 reps)\n",
      "* Calf raises (3 sets x 8-10 reps)\n",
      "\n",
      "**Day 5:**\n",
      "* Warm up with 5 minutes of light cardio and dynamic stretching.\n",
      "* Chest flys (3 sets x 8-10 reps)\n",
      "* Bicep curls (3 sets x 8-10 reps)\n",
      "* Tricep extensions (3 sets x 8-10 reps)\n",
      "\n",
      "**Day 6:**\n",
      "* Warm up with 5 minutes of light cardio and dynamic stretching.\n",
      "* Leg press (3 sets x 8-10 reps)\n",
      "* Glute bridges (3 sets x 8-10 reps)\n",
      "* Single leg bridge (3 sets x 8-10 reps)\n",
      "\n",
      "**Day 7:**\n",
      "* Warm up with 5 minutes of light cardio and dynamic stretching.\n",
      "* Full body circuit (3 sets x 30 seconds each exercise)\n",
      "* Rest for 1 minute between sets\n",
      "\n",
      "**Tips for Effective Calorie Tracking:**\n",
      "\n",
      "* Use a calorie tracking app or journal to monitor your daily caloric intake.\n",
      "* Pay attention to portion sizes and avoid overeating.\n",
      "* Choose whole, nutrient-rich foods whenever possible.\n",
      "* Be mindful of your hunger cues and eat when you're truly hungry.\n"
     ]
    }
   ],
   "source": [
    "query = \"Create a 7-day workout calendar for weight loss for a person with BMI of 25.\"\n",
    "response = hybrid_retrieval_first(query)\n",
    "print(\"Mode:\", response['mode'])\n",
    "print(\"\\nGenerated Answer:\\n\", response['answer'])"
   ]
  },
  {
   "cell_type": "code",
   "execution_count": null,
   "metadata": {},
   "outputs": [
    {
     "name": "stdout",
     "output_type": "stream",
     "text": [
      "Mode: retrieval\n",
      "\n",
      "Generated Answer:\n",
      " Lean meats, fish, legumes, and protein-rich foods help muscle growth.\n"
     ]
    }
   ],
   "source": [
    "query = \"What type of foods help muscle gain?\t\"\n",
    "response = hybrid_retrieval_first(query)\n",
    "print(\"Mode:\", response['mode'])\n",
    "print(\"\\nGenerated Answer:\\n\", response['answer'])"
   ]
  },
  {
   "cell_type": "code",
   "execution_count": null,
   "metadata": {},
   "outputs": [],
   "source": []
  }
 ],
 "metadata": {
  "language_info": {
   "name": "python"
  }
 },
 "nbformat": 4,
 "nbformat_minor": 0
}
